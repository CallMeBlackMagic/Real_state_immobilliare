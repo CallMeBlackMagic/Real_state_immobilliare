{
 "cells": [
  {
   "cell_type": "code",
   "execution_count": 2,
   "id": "f338f594",
   "metadata": {},
   "outputs": [],
   "source": [
    "import requests\n",
    "from bs4 import BeautifulSoup\n",
    "import csv\n",
    "import lxml\n",
    "import numpy as np\n",
    "import pandas as pd\n",
    "\n",
    "immobiliare_url = 'https://www.immobiliare.it/vendita-case/trieste-provincia/?criterio=rilevanza&pag='\n",
    "real_states_about = []\n",
    "x = 0\n",
    "# Iterating pages of the website\n",
    "def main_immobiliare(req):\n",
    "    source = req.content\n",
    "    soup = BeautifulSoup(source, 'lxml')\n",
    "    real_states = soup.find_all(\"li\", {\"class\": \"nd-list__item in-realEstateResults__item\"})\n",
    "    number_of_real_states = len(real_states)\n",
    "\n",
    "    def get_real_state_info(real_state):\n",
    "        less_than_1000 = \"⚠ Element not found ⚠\"\n",
    "        calc_per_meter = \"⚠ Element not found ⚠\"\n",
    "        price = real_state.contents[0].find('li', {\"class\": \"nd-list__item in-feat__item in-feat__item--main in-realEstateListCard__features--main\"})\n",
    "        if price is not None:\n",
    "            price = price.text.strip()\n",
    "        else:\n",
    "            price = \"Element not found.\"\n",
    "        space = real_state.find('span', class_='in-mainFeatures__text')\n",
    "        value_m_squared = space.find_previous_sibling(text=True).strip().replace('€', '').replace(',', '')  # Remove Euro symbol and comma\n",
    "        if price != \"Element not found.\" and value_m_squared and value_m_squared.isdigit():\n",
    "            digit_price = price.split()[1]\n",
    "            new_number = ''.join(filter(str.isdigit, digit_price))  # Keep only digits\n",
    "            if new_number and new_number.isdigit():\n",
    "                calc_per_meter = int(new_number) / int(value_m_squared)\n",
    "                if calc_per_meter < 1000:\n",
    "                    less_than_1000 = 'True ✅'\n",
    "                else:\n",
    "                    less_than_1000 = 'False ❌'\n",
    "        real_states_about.append({\"Price\": price, \"M**2\": value_m_squared, \"Status Price per Meter\": f\"{less_than_1000} The price is {calc_per_meter} per Meter\"})\n",
    "\n",
    "    # Iterating inside the page and applying the function on every real state\n",
    "    for i in range(number_of_real_states):\n",
    "        get_real_state_info(real_states[i])\n",
    "\n",
    "for page in range(0, 57):\n",
    "    x += 1\n",
    "    new_immobiliare_url = immobiliare_url + str(x)\n",
    "    request = requests.get(new_immobiliare_url)\n",
    "    main_immobiliare(request)\n"
   ]
  },
  {
   "cell_type": "code",
   "execution_count": 3,
   "id": "19b8634c",
   "metadata": {},
   "outputs": [
    {
     "name": "stdout",
     "output_type": "stream",
     "text": [
      "File Created\n"
     ]
    }
   ],
   "source": [
    "keys = real_states_about[0].keys()\n",
    "with open(\"IMMOBILIARE WEB SCRAPING\", 'w', encoding='utf-8') as output_file:\n",
    "        csv_writer = csv.DictWriter(output_file, fieldnames=keys)\n",
    "        csv_writer.writeheader()\n",
    "        csv_writer.writerows(real_states_about)\n",
    "        print(\"File Created\")"
   ]
  },
  {
   "cell_type": "code",
   "execution_count": 4,
   "id": "26db7f27",
   "metadata": {},
   "outputs": [],
   "source": [
    "df = pd.DataFrame(real_states_about)"
   ]
  },
  {
   "cell_type": "code",
   "execution_count": 5,
   "id": "c325a5f4",
   "metadata": {
    "collapsed": true
   },
   "outputs": [
    {
     "data": {
      "text/html": [
       "<div>\n",
       "<style scoped>\n",
       "    .dataframe tbody tr th:only-of-type {\n",
       "        vertical-align: middle;\n",
       "    }\n",
       "\n",
       "    .dataframe tbody tr th {\n",
       "        vertical-align: top;\n",
       "    }\n",
       "\n",
       "    .dataframe thead th {\n",
       "        text-align: right;\n",
       "    }\n",
       "</style>\n",
       "<table border=\"1\" class=\"dataframe\">\n",
       "  <thead>\n",
       "    <tr style=\"text-align: right;\">\n",
       "      <th></th>\n",
       "      <th>Price</th>\n",
       "      <th>M**2</th>\n",
       "      <th>Status Price per Meter</th>\n",
       "    </tr>\n",
       "  </thead>\n",
       "  <tbody>\n",
       "    <tr>\n",
       "      <th>0</th>\n",
       "      <td>€ 1.600.000</td>\n",
       "      <td>530</td>\n",
       "      <td>False ❌ The price is 3018.867924528302 per Meter</td>\n",
       "    </tr>\n",
       "    <tr>\n",
       "      <th>1</th>\n",
       "      <td>€ 497.000</td>\n",
       "      <td>92</td>\n",
       "      <td>False ❌ The price is 5402.173913043478 per Meter</td>\n",
       "    </tr>\n",
       "    <tr>\n",
       "      <th>2</th>\n",
       "      <td>€ 850.000</td>\n",
       "      <td>158</td>\n",
       "      <td>False ❌ The price is 5379.7468354430375 per Meter</td>\n",
       "    </tr>\n",
       "    <tr>\n",
       "      <th>3</th>\n",
       "      <td>€ 650.000</td>\n",
       "      <td>105</td>\n",
       "      <td>False ❌ The price is 6190.476190476191 per Meter</td>\n",
       "    </tr>\n",
       "    <tr>\n",
       "      <th>4</th>\n",
       "      <td>Element not found.</td>\n",
       "      <td>156</td>\n",
       "      <td>⚠ Element not found ⚠ The price is ⚠ Element n...</td>\n",
       "    </tr>\n",
       "    <tr>\n",
       "      <th>...</th>\n",
       "      <td>...</td>\n",
       "      <td>...</td>\n",
       "      <td>...</td>\n",
       "    </tr>\n",
       "    <tr>\n",
       "      <th>1374</th>\n",
       "      <td>€ 165.000</td>\n",
       "      <td>65</td>\n",
       "      <td>False ❌ The price is 2538.4615384615386 per Meter</td>\n",
       "    </tr>\n",
       "    <tr>\n",
       "      <th>1375</th>\n",
       "      <td>€ 295.000</td>\n",
       "      <td>145</td>\n",
       "      <td>False ❌ The price is 2034.4827586206898 per Meter</td>\n",
       "    </tr>\n",
       "    <tr>\n",
       "      <th>1376</th>\n",
       "      <td>€ 400.000</td>\n",
       "      <td>800</td>\n",
       "      <td>True ✅ The price is 500.0 per Meter</td>\n",
       "    </tr>\n",
       "    <tr>\n",
       "      <th>1377</th>\n",
       "      <td>€ 250.000</td>\n",
       "      <td>110</td>\n",
       "      <td>False ❌ The price is 2272.7272727272725 per Meter</td>\n",
       "    </tr>\n",
       "    <tr>\n",
       "      <th>1378</th>\n",
       "      <td>€ 195.000</td>\n",
       "      <td>101</td>\n",
       "      <td>False ❌ The price is 1930.6930693069307 per Meter</td>\n",
       "    </tr>\n",
       "  </tbody>\n",
       "</table>\n",
       "<p>1379 rows × 3 columns</p>\n",
       "</div>"
      ],
      "text/plain": [
       "                   Price M**2  \\\n",
       "0            € 1.600.000  530   \n",
       "1              € 497.000   92   \n",
       "2              € 850.000  158   \n",
       "3              € 650.000  105   \n",
       "4     Element not found.  156   \n",
       "...                  ...  ...   \n",
       "1374           € 165.000   65   \n",
       "1375           € 295.000  145   \n",
       "1376           € 400.000  800   \n",
       "1377           € 250.000  110   \n",
       "1378           € 195.000  101   \n",
       "\n",
       "                                 Status Price per Meter  \n",
       "0      False ❌ The price is 3018.867924528302 per Meter  \n",
       "1      False ❌ The price is 5402.173913043478 per Meter  \n",
       "2     False ❌ The price is 5379.7468354430375 per Meter  \n",
       "3      False ❌ The price is 6190.476190476191 per Meter  \n",
       "4     ⚠ Element not found ⚠ The price is ⚠ Element n...  \n",
       "...                                                 ...  \n",
       "1374  False ❌ The price is 2538.4615384615386 per Meter  \n",
       "1375  False ❌ The price is 2034.4827586206898 per Meter  \n",
       "1376                True ✅ The price is 500.0 per Meter  \n",
       "1377  False ❌ The price is 2272.7272727272725 per Meter  \n",
       "1378  False ❌ The price is 1930.6930693069307 per Meter  \n",
       "\n",
       "[1379 rows x 3 columns]"
      ]
     },
     "execution_count": 5,
     "metadata": {},
     "output_type": "execute_result"
    }
   ],
   "source": [
    "df"
   ]
  },
  {
   "cell_type": "code",
   "execution_count": 2,
   "id": "3ce429a7",
   "metadata": {},
   "outputs": [],
   "source": [
    "import pandas as pd"
   ]
  },
  {
   "cell_type": "code",
   "execution_count": 3,
   "id": "95914d88",
   "metadata": {},
   "outputs": [],
   "source": [
    "df = pd.read_csv('IMMOBILIARE WEB SCRAPING')"
   ]
  },
  {
   "cell_type": "code",
   "execution_count": 4,
   "id": "881821b4",
   "metadata": {},
   "outputs": [
    {
     "data": {
      "text/html": [
       "<div>\n",
       "<style scoped>\n",
       "    .dataframe tbody tr th:only-of-type {\n",
       "        vertical-align: middle;\n",
       "    }\n",
       "\n",
       "    .dataframe tbody tr th {\n",
       "        vertical-align: top;\n",
       "    }\n",
       "\n",
       "    .dataframe thead th {\n",
       "        text-align: right;\n",
       "    }\n",
       "</style>\n",
       "<table border=\"1\" class=\"dataframe\">\n",
       "  <thead>\n",
       "    <tr style=\"text-align: right;\">\n",
       "      <th></th>\n",
       "      <th>Price</th>\n",
       "      <th>M**2</th>\n",
       "      <th>Status Price per Meter</th>\n",
       "    </tr>\n",
       "  </thead>\n",
       "  <tbody>\n",
       "    <tr>\n",
       "      <th>0</th>\n",
       "      <td>€ 1.600.000</td>\n",
       "      <td>530.0</td>\n",
       "      <td>False ❌ The price is 3018.867924528302 per Meter</td>\n",
       "    </tr>\n",
       "    <tr>\n",
       "      <th>1</th>\n",
       "      <td>€ 497.000</td>\n",
       "      <td>92.0</td>\n",
       "      <td>False ❌ The price is 5402.173913043478 per Meter</td>\n",
       "    </tr>\n",
       "    <tr>\n",
       "      <th>2</th>\n",
       "      <td>€ 850.000</td>\n",
       "      <td>158.0</td>\n",
       "      <td>False ❌ The price is 5379.7468354430375 per Meter</td>\n",
       "    </tr>\n",
       "    <tr>\n",
       "      <th>3</th>\n",
       "      <td>€ 650.000</td>\n",
       "      <td>105.0</td>\n",
       "      <td>False ❌ The price is 6190.476190476191 per Meter</td>\n",
       "    </tr>\n",
       "    <tr>\n",
       "      <th>4</th>\n",
       "      <td>Element not found.</td>\n",
       "      <td>156.0</td>\n",
       "      <td>⚠ Element not found ⚠ The price is ⚠ Element n...</td>\n",
       "    </tr>\n",
       "  </tbody>\n",
       "</table>\n",
       "</div>"
      ],
      "text/plain": [
       "                Price   M**2  \\\n",
       "0         € 1.600.000  530.0   \n",
       "1           € 497.000   92.0   \n",
       "2           € 850.000  158.0   \n",
       "3           € 650.000  105.0   \n",
       "4  Element not found.  156.0   \n",
       "\n",
       "                              Status Price per Meter  \n",
       "0   False ❌ The price is 3018.867924528302 per Meter  \n",
       "1   False ❌ The price is 5402.173913043478 per Meter  \n",
       "2  False ❌ The price is 5379.7468354430375 per Meter  \n",
       "3   False ❌ The price is 6190.476190476191 per Meter  \n",
       "4  ⚠ Element not found ⚠ The price is ⚠ Element n...  "
      ]
     },
     "execution_count": 4,
     "metadata": {},
     "output_type": "execute_result"
    }
   ],
   "source": [
    "df.head()"
   ]
  },
  {
   "cell_type": "code",
   "execution_count": 17,
   "id": "54eb1ff8",
   "metadata": {},
   "outputs": [],
   "source": [
    "count = 0\n",
    "for e in df['Status Price per Meter']:\n",
    "    if e[:4] == 'True':\n",
    "        count+=1"
   ]
  },
  {
   "cell_type": "code",
   "execution_count": 18,
   "id": "3e94894d",
   "metadata": {},
   "outputs": [
    {
     "data": {
      "text/plain": [
       "44"
      ]
     },
     "execution_count": 18,
     "metadata": {},
     "output_type": "execute_result"
    }
   ],
   "source": [
    "count"
   ]
  },
  {
   "cell_type": "code",
   "execution_count": null,
   "id": "2ae61f10",
   "metadata": {},
   "outputs": [],
   "source": []
  }
 ],
 "metadata": {
  "kernelspec": {
   "display_name": "Python 3 (ipykernel)",
   "language": "python",
   "name": "python3"
  },
  "language_info": {
   "codemirror_mode": {
    "name": "ipython",
    "version": 3
   },
   "file_extension": ".py",
   "mimetype": "text/x-python",
   "name": "python",
   "nbconvert_exporter": "python",
   "pygments_lexer": "ipython3",
   "version": "3.10.9"
  }
 },
 "nbformat": 4,
 "nbformat_minor": 5
}
